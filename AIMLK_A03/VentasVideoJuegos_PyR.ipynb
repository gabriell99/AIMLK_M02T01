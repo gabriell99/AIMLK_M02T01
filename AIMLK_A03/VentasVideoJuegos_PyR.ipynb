{
 "cells": [
  {
   "cell_type": "markdown",
   "id": "d943ad96-5826-4319-ade5-edf046b86902",
   "metadata": {},
   "source": [
    "### AIML- INCAF-1 Módulo 1: Identificar origen de datos\n",
    "### Proyecto de ciencia de datos integrando Phyton y R\n",
    "### Gabriel Guzmán\n",
    "\n",
    "### 1. Elección del conjunto de datos\\n\n",
    "\n",
    "Selecciona un conjunto de datos que despierte tu interés. Pueden ser datos de cualquier área, como salud, finanzas, deportes, medio ambiente, etc. Recuerda que el conjunto de datos debe ser lo suficientemente grande para permitir un análisis significativo (mínimo 1000 filas y varias variables) y ser compatible tanto con Python como con R, como CSV, JSON, Excel, etc.\n"
   ]
  },
  {
   "cell_type": "code",
   "execution_count": null,
   "id": "45bf4ded-49a2-4a2d-bd21-16e0a9b4d69c",
   "metadata": {},
   "outputs": [],
   "source": [
    "#Nos aseguramos de tener instalado rpy2\n",
    "#pip install rpy2\n",
    "\n",
    "# Importar las librerías necesarias\n",
    "import rpy2.robjects as robjects\n",
    "from rpy2.robjects import pandas2ri"
   ]
  }
 ],
 "metadata": {
  "kernelspec": {
   "display_name": "Python 3 (ipykernel)",
   "language": "python",
   "name": "python3"
  },
  "language_info": {
   "codemirror_mode": {
    "name": "ipython",
    "version": 3
   },
   "file_extension": ".py",
   "mimetype": "text/x-python",
   "name": "python",
   "nbconvert_exporter": "python",
   "pygments_lexer": "ipython3",
   "version": "3.12.5"
  }
 },
 "nbformat": 4,
 "nbformat_minor": 5
}
