{
 "cells": [
  {
   "attachments": {},
   "cell_type": "markdown",
   "id": "e0f21adc-679f-4aef-a88d-be723a3a2bcd",
   "metadata": {},
   "source": [
    "### AIML-INCAF-1 Módulo 2: Identificar origen de datos\n",
    "### Elaboración de un informe sobre una aplicación específica de IA en el sector bancario\n",
    "### K00003031: Gabriel Guzmán\n",
    "\n",
    "## Indicaciones Generales\n",
    "En parejas, los estudiantes deben elaborar un informe que describa una aplicación específica de la inteligencia artificial en el sector bancario. \n",
    "\n",
    "Pueden incluir temas como:\n",
    "- Detección de fraudes\n",
    "- Optimización de servicios bancarios\n",
    "- Análisis de datos de clientes \n",
    "- Evaluación de riesgos crediticios. \n",
    "\n",
    "La investigación debe de contener las fuentes de dónde provenga la información y reflejar cómo la IA impacta en el sector bancario a través del ejemplo estudiado.\n",
    "\n",
    "El trabajo se presentará en un documento de word de 3 a 4 páginas, en formato académico con introducción, desarrollo y conclusión."
   ]
  },
  {
   "cell_type": "markdown",
   "id": "e6969ada-d8c5-4b47-be32-a32cb4939daa",
   "metadata": {},
   "source": [
    "## Introducción\n",
    "Para esta actividad se ha tomado la \"detección de fraudes\" AML (Anti Money Laundering), la fuente de información se ha tomado de kaggle.com para el caso de estudio IBM AML, archivo fuente LI-Small_Trans.csv"
   ]
  },
  {
   "cell_type": "markdown",
   "id": "303cb52a-50f4-4246-90ed-dd455b3302be",
   "metadata": {},
   "source": [
    "## Desarrollo del análisis\n",
    "### 1. Cargando datos\n",
    "Archivo fuente tomado de: https://www.kaggle.com/datasets/ealtman2019/ibm-transactions-for-anti-money-laundering-aml/data?select=LI-Small_Trans.csv\n"
   ]
  },
  {
   "cell_type": "code",
   "execution_count": 1,
   "id": "1cf03780-385a-4e34-b8a5-611940878c78",
   "metadata": {},
   "outputs": [],
   "source": [
    "#Leyendo datos\n",
    "import pandas as pd\n",
    "df = pd.read_csv(\"DataSet/LI-Small_Trans.csv\")"
   ]
  },
  {
   "cell_type": "code",
   "execution_count": 3,
   "id": "e9268f92-5289-4f9f-87f1-83258b1c45fa",
   "metadata": {},
   "outputs": [
    {
     "name": "stdout",
     "output_type": "stream",
     "text": [
      "<class 'pandas.core.frame.DataFrame'>\n",
      "RangeIndex: 6924049 entries, 0 to 6924048\n",
      "Data columns (total 11 columns):\n",
      " #   Column              Dtype  \n",
      "---  ------              -----  \n",
      " 0   Timestamp           object \n",
      " 1   From Bank           int64  \n",
      " 2   Account             object \n",
      " 3   To Bank             int64  \n",
      " 4   Account.1           object \n",
      " 5   Amount Received     float64\n",
      " 6   Receiving Currency  object \n",
      " 7   Amount Paid         float64\n",
      " 8   Payment Currency    object \n",
      " 9   Payment Format      object \n",
      " 10  Is Laundering       int64  \n",
      "dtypes: float64(2), int64(3), object(6)\n",
      "memory usage: 581.1+ MB\n"
     ]
    }
   ],
   "source": [
    "#Explorando estructura de datos\n",
    "df.info()\n"
   ]
  },
  {
   "cell_type": "markdown",
   "id": "4c3e05e2-bdc7-4cc0-85d6-1fc4480fa475",
   "metadata": {},
   "source": [
    "### 2. Explorando datos a Analizar (EDA)\n",
    "Realizaramos una revisión básica de valores vacios y registros duplicados."
   ]
  },
  {
   "cell_type": "code",
   "execution_count": 4,
   "id": "3c901ca3-0698-4235-b5fc-37cf140e899b",
   "metadata": {},
   "outputs": [
    {
     "data": {
      "text/plain": [
       "Timestamp             0\n",
       "From Bank             0\n",
       "Account               0\n",
       "To Bank               0\n",
       "Account.1             0\n",
       "Amount Received       0\n",
       "Receiving Currency    0\n",
       "Amount Paid           0\n",
       "Payment Currency      0\n",
       "Payment Format        0\n",
       "Is Laundering         0\n",
       "dtype: int64"
      ]
     },
     "execution_count": 4,
     "metadata": {},
     "output_type": "execute_result"
    }
   ],
   "source": [
    "#Verificando datos vacios\n",
    "df.isna().sum()"
   ]
  },
  {
   "cell_type": "code",
   "execution_count": 7,
   "id": "21d74b7f-4522-45eb-935f-effcc8be4e1e",
   "metadata": {},
   "outputs": [
    {
     "data": {
      "text/plain": [
       "np.int64(8)"
      ]
     },
     "execution_count": 7,
     "metadata": {},
     "output_type": "execute_result"
    }
   ],
   "source": [
    "#buscando duplicados\n",
    "df.duplicated().sum()\n"
   ]
  },
  {
   "cell_type": "code",
   "execution_count": 8,
   "id": "d95cdf9b-7df3-44f2-9d6e-84669fbbd393",
   "metadata": {},
   "outputs": [
    {
     "data": {
      "text/plain": [
       "(6924041, 11)"
      ]
     },
     "execution_count": 8,
     "metadata": {},
     "output_type": "execute_result"
    }
   ],
   "source": [
    "#Eliminado duplicados\n",
    "df.drop_duplicates(inplace=True)\n",
    "df.shape"
   ]
  },
  {
   "cell_type": "markdown",
   "id": "e352d73c-cec1-4588-9fcb-fc1acaed9d73",
   "metadata": {},
   "source": [
    "### 3. Limpieza y transformación\n",
    "Realizamos una limpieza de la información que se analizará y tratamiento de los campos para transformar los campos de nuestro dataframe"
   ]
  },
  {
   "cell_type": "code",
   "execution_count": 12,
   "id": "8f7e9770-309b-4563-bda8-d9f886a0132b",
   "metadata": {},
   "outputs": [
    {
     "data": {
      "text/plain": [
       "Timestamp              object\n",
       "From Bank               int64\n",
       "Account                object\n",
       "To Bank                 int64\n",
       "Account.1              object\n",
       "Amount Received       float64\n",
       "Receiving Currency     object\n",
       "Amount Paid           float64\n",
       "Payment Currency       object\n",
       "Payment Format         object\n",
       "Is Laundering           int64\n",
       "dtype: object"
      ]
     },
     "execution_count": 12,
     "metadata": {},
     "output_type": "execute_result"
    }
   ],
   "source": [
    "#Revisando Tipos de Datos\n",
    "df.dtypes"
   ]
  },
  {
   "cell_type": "code",
   "execution_count": 14,
   "id": "c9368710-b67b-43de-a35c-7ce09a5b7c9b",
   "metadata": {},
   "outputs": [],
   "source": [
    "#Transformando tipos de datos para un mejor tratamiento\n",
    "df['Timestamp']= pd.to_datetime(df['Timestamp'])\n",
    "df['From Bank']= df['From Bank'].astype('object')\n",
    "df['To Bank']= df['To Bank'].astype(\"object\")\n",
    "df['Is Laundering']= df[\"Is Laundering\"].astype('object')\n"
   ]
  },
  {
   "cell_type": "code",
   "execution_count": 15,
   "id": "bd10f628-ce6e-4ab2-a79b-1fcfd0389587",
   "metadata": {},
   "outputs": [
    {
     "data": {
      "text/plain": [
       "Timestamp             datetime64[ns]\n",
       "From Bank                     object\n",
       "Account                       object\n",
       "To Bank                       object\n",
       "Account.1                     object\n",
       "Amount Received              float64\n",
       "Receiving Currency            object\n",
       "Amount Paid                  float64\n",
       "Payment Currency              object\n",
       "Payment Format                object\n",
       "Is Laundering                 object\n",
       "dtype: object"
      ]
     },
     "execution_count": 15,
     "metadata": {},
     "output_type": "execute_result"
    }
   ],
   "source": [
    "df.dtypes"
   ]
  },
  {
   "cell_type": "markdown",
   "id": "da6ea98b-43bc-47a5-bc98-05b683f63794",
   "metadata": {},
   "source": [
    "### 4. Particionando Datos\n",
    "En esta sección haremos un pequeño analisis de la información que se tiene para identificar nuestra variable objetivo."
   ]
  },
  {
   "cell_type": "code",
   "execution_count": 18,
   "id": "7c47cc41-7360-43c7-8ded-614f78837454",
   "metadata": {},
   "outputs": [
    {
     "data": {
      "text/plain": [
       "<Axes: >"
      ]
     },
     "execution_count": 18,
     "metadata": {},
     "output_type": "execute_result"
    },
    {
     "data": {
      "image/png": "[encoded data removed]",
      "text/plain": [
       "<Figure size 640x480 with 1 Axes>"
      ]
     },
     "metadata": {},
     "output_type": "display_data"
    }
   ],
   "source": [
    "# Analizando datos según montos transaccionados\n",
    "df['Amount Received'].plot(kind='box')"
   ]
  },
  {
   "cell_type": "code",
   "execution_count": 19,
   "id": "b30fe8ea-2923-49df-b2fe-466905f1f824",
   "metadata": {},
   "outputs": [
    {
     "data": {
      "text/plain": [
       "Index(['Timestamp', 'From Bank', 'Account', 'To Bank', 'Account.1',\n",
       "       'Amount Received', 'Receiving Currency', 'Amount Paid',\n",
       "       'Payment Currency', 'Payment Format', 'Is Laundering'],\n",
       "      dtype='object')"
      ]
     },
     "execution_count": 19,
     "metadata": {},
     "output_type": "execute_result"
    }
   ],
   "source": [
    "#De nuestra estructura de datos tomaremos la columna \"Timestamp\"\n",
    "df.columns"
   ]
  },
  {
   "cell_type": "code",
   "execution_count": 23,
   "id": "5f85235f-1c27-4944-9a94-16900206ef98",
   "metadata": {},
   "outputs": [
    {
     "data": {
      "text/html": [
       "<div>\n",
       "<style scoped>\n",
       "    .dataframe tbody tr th:only-of-type {\n",
       "        vertical-align: middle;\n",
       "    }\n",
       "\n",
       "    .dataframe tbody tr th {\n",
       "        vertical-align: top;\n",
       "    }\n",
       "\n",
       "    .dataframe thead th {\n",
       "        text-align: right;\n",
       "    }\n",
       "</style>\n",
       "<table border=\"1\" class=\"dataframe\">\n",
       "  <thead>\n",
       "    <tr style=\"text-align: right;\">\n",
       "      <th></th>\n",
       "      <th>Timestamp</th>\n",
       "      <th>From Bank</th>\n",
       "      <th>Account</th>\n",
       "      <th>To Bank</th>\n",
       "      <th>Account.1</th>\n",
       "      <th>Amount Received</th>\n",
       "      <th>Receiving Currency</th>\n",
       "      <th>Amount Paid</th>\n",
       "      <th>Payment Currency</th>\n",
       "      <th>Payment Format</th>\n",
       "      <th>Is Laundering</th>\n",
       "      <th>Date</th>\n",
       "      <th>Time</th>\n",
       "    </tr>\n",
       "  </thead>\n",
       "  <tbody>\n",
       "    <tr>\n",
       "      <th>0</th>\n",
       "      <td>2022-09-01 00:08:00</td>\n",
       "      <td>11</td>\n",
       "      <td>8000ECA90</td>\n",
       "      <td>11</td>\n",
       "      <td>8000ECA90</td>\n",
       "      <td>3195403.00</td>\n",
       "      <td>US Dollar</td>\n",
       "      <td>3195403.00</td>\n",
       "      <td>US Dollar</td>\n",
       "      <td>Reinvestment</td>\n",
       "      <td>0</td>\n",
       "      <td>2022-09-01</td>\n",
       "      <td>00:08:00</td>\n",
       "    </tr>\n",
       "    <tr>\n",
       "      <th>1</th>\n",
       "      <td>2022-09-01 00:21:00</td>\n",
       "      <td>3402</td>\n",
       "      <td>80021DAD0</td>\n",
       "      <td>3402</td>\n",
       "      <td>80021DAD0</td>\n",
       "      <td>1858.96</td>\n",
       "      <td>US Dollar</td>\n",
       "      <td>1858.96</td>\n",
       "      <td>US Dollar</td>\n",
       "      <td>Reinvestment</td>\n",
       "      <td>0</td>\n",
       "      <td>2022-09-01</td>\n",
       "      <td>00:21:00</td>\n",
       "    </tr>\n",
       "    <tr>\n",
       "      <th>2</th>\n",
       "      <td>2022-09-01 00:00:00</td>\n",
       "      <td>11</td>\n",
       "      <td>8000ECA90</td>\n",
       "      <td>1120</td>\n",
       "      <td>8006AA910</td>\n",
       "      <td>592571.00</td>\n",
       "      <td>US Dollar</td>\n",
       "      <td>592571.00</td>\n",
       "      <td>US Dollar</td>\n",
       "      <td>Cheque</td>\n",
       "      <td>0</td>\n",
       "      <td>2022-09-01</td>\n",
       "      <td>00:00:00</td>\n",
       "    </tr>\n",
       "  </tbody>\n",
       "</table>\n",
       "</div>"
      ],
      "text/plain": [
       "            Timestamp From Bank    Account To Bank  Account.1  \\\n",
       "0 2022-09-01 00:08:00        11  8000ECA90      11  8000ECA90   \n",
       "1 2022-09-01 00:21:00      3402  80021DAD0    3402  80021DAD0   \n",
       "2 2022-09-01 00:00:00        11  8000ECA90    1120  8006AA910   \n",
       "\n",
       "   Amount Received Receiving Currency  Amount Paid Payment Currency  \\\n",
       "0       3195403.00          US Dollar   3195403.00        US Dollar   \n",
       "1          1858.96          US Dollar      1858.96        US Dollar   \n",
       "2        592571.00          US Dollar    592571.00        US Dollar   \n",
       "\n",
       "  Payment Format Is Laundering        Date      Time  \n",
       "0   Reinvestment             0  2022-09-01  00:08:00  \n",
       "1   Reinvestment             0  2022-09-01  00:21:00  \n",
       "2         Cheque             0  2022-09-01  00:00:00  "
      ]
     },
     "execution_count": 23,
     "metadata": {},
     "output_type": "execute_result"
    }
   ],
   "source": [
    "# Creamos la columan \"Date\" el cual contendrá la fecha de la columna \"Timestamp\"\n",
    "df['Date']=df[\"Timestamp\"].dt.date\n",
    "# Ahora creamos la columna \"Time\" el cual contendrá solo la hora de la columna \"Timestamp\"\n",
    "df['Time']=df[\"Timestamp\"].dt.time\n",
    "# Nuestro DataFrame ahora tiene 2 nuevas columnas\n",
    "df.head(3)"
   ]
  },
  {
   "cell_type": "code",
   "execution_count": 31,
   "id": "a157c98f-f602-4068-aeec-7d35c1cd16e0",
   "metadata": {},
   "outputs": [
    {
     "data": {
      "text/plain": [
       "np.float64(3644853662746.95)"
      ]
     },
     "execution_count": 31,
     "metadata": {},
     "output_type": "execute_result"
    }
   ],
   "source": [
    "# Cuál ha sido el mayor monto que ha transaccionado?\n",
    "df['Amount Received'].max()\n"
   ]
  },
  {
   "cell_type": "code",
   "execution_count": 26,
   "id": "2a887428-e3f5-4c02-bb94-c4c51e5716ba",
   "metadata": {},
   "outputs": [
    {
     "data": {
      "text/plain": [
       "np.float64(1e-06)"
      ]
     },
     "execution_count": 26,
     "metadata": {},
     "output_type": "execute_result"
    }
   ],
   "source": [
    "# Cuál es el menor monto que se ha transaccionado?\n",
    "df['Amount Received'].min()\n"
   ]
  },
  {
   "cell_type": "code",
   "execution_count": 28,
   "id": "c72af1cb-fb6a-4060-99bb-59d25d047aeb",
   "metadata": {},
   "outputs": [
    {
     "data": {
      "text/plain": [
       "np.float64(6324073.911975413)"
      ]
     },
     "execution_count": 28,
     "metadata": {},
     "output_type": "execute_result"
    }
   ],
   "source": [
    "# De cuánto es nuestra media de transacciones recibidas?\n",
    "df['Amount Received'].mean()\n"
   ]
  },
  {
   "cell_type": "code",
   "execution_count": 29,
   "id": "52de56bf-9e56-4d50-93b9-bcea49c777cc",
   "metadata": {},
   "outputs": [
    {
     "data": {
      "text/plain": [
       "np.float64(4676041.375337785)"
      ]
     },
     "execution_count": 29,
     "metadata": {},
     "output_type": "execute_result"
    }
   ],
   "source": [
    "# De cuánto es nuestra media de transacciones pagadas?\n",
    "df['Amount Paid'].mean()"
   ]
  },
  {
   "cell_type": "code",
   "execution_count": 32,
   "id": "66c6475d-d9ec-490a-baab-00c3a3fb2ad2",
   "metadata": {},
   "outputs": [
    {
     "data": {
      "text/plain": [
       "Is Laundering\n",
       "0    0.999485\n",
       "1    0.000515\n",
       "Name: count, dtype: float64"
      ]
     },
     "execution_count": 32,
     "metadata": {},
     "output_type": "execute_result"
    }
   ],
   "source": [
    "# Cuánto es el porcentaje de nuestros datos que han sido marcados como \"lavado\" de dinero\n",
    "df['Is Laundering'].value_counts()/df.shape[0]"
   ]
  },
  {
   "cell_type": "code",
   "execution_count": 33,
   "id": "ed06fe69-dbbe-44f0-9372-d28c07cda526",
   "metadata": {},
   "outputs": [
    {
     "data": {
      "text/plain": [
       "<Axes: xlabel='Date'>"
      ]
     },
     "execution_count": 33,
     "metadata": {},
     "output_type": "execute_result"
    },
    {
     "data": {
      "image/png": "[encoded data removed]",
      "text/plain": [
       "<Figure size 640x480 with 1 Axes>"
      ]
     },
     "metadata": {},
     "output_type": "display_data"
    }
   ],
   "source": [
    "#Desplegando información por fecha en que se realizó el fraude\n",
    "df[df['Is Laundering']==1]['Date'].value_counts().plot(kind='bar')"
   ]
  },
  {
   "cell_type": "markdown",
   "id": "d53aeea5-a18f-4ed3-8b6c-33d838474c34",
   "metadata": {},
   "source": [
    "### 5. Entrenamiento y Testeo\n",
    "Ya con los datos analizados procederemos ha crear un modelo de entrenamiento para posteriormente realizar nuestro testo de información y tratar de predecir la frecuencia del próximo fraude.\n",
    "\n",
    "Utilizaremos el modelo de regresión lineal para crear nuestro objeto de aprendizaje y testeo"
   ]
  },
  {
   "cell_type": "code",
   "execution_count": 82,
   "id": "a26e9ed6-5e70-4bc0-8341-a5c87c48c676",
   "metadata": {},
   "outputs": [],
   "source": [
    "# Mi Variable target = \"Is Laundering\"\n",
    "import matplotlib.pyplot as plt\n",
    "\n",
    "# Importa la clase LinearRegression para crear un modelo de regresión lineal\n",
    "from sklearn.linear_model import LinearRegression \n",
    "# Importa la clase de entrenamiento\n",
    "from sklearn.model_selection import train_test_split\n",
    "# Importa la métrica del error cuadrático medio (MSE) para evaluar el rendimiento del modelo\n",
    "from sklearn.metrics import mean_squared_error \n",
    "# Importa NumPy, una biblioteca para realizar operaciones numéricas y trabajar con arrays\n",
    "import numpy as np \n",
    "\n",
    "\n",
    "model = LinearRegression()\n"
   ]
  },
  {
   "cell_type": "markdown",
   "id": "bd2bf408-4f0e-47b6-9e9e-f97acd9e685f",
   "metadata": {},
   "source": [
    "Despleando resultados de nuestro entrenamiento y testeo"
   ]
  },
  {
   "cell_type": "code",
   "execution_count": 57,
   "id": "f4a9ba07-da8f-4c65-a2ac-cb1239253ba3",
   "metadata": {},
   "outputs": [
    {
     "data": {
      "image/png": "[encoded data removed]",
      "text/plain": [
       "<Figure size 800x600 with 1 Axes>"
      ]
     },
     "metadata": {},
     "output_type": "display_data"
    }
   ],
   "source": [
    "# Crear el histograma para la variable 'From Bank'\n",
    "plt.figure(figsize=(8,6))\n",
    "plt.hist(df['From Bank'], bins=50, color='blue', edgecolor='black')\n",
    "plt.title('Histograma From Bank')\n",
    "plt.xlabel('From Bank')\n",
    "plt.ylabel('Amount Received')\n",
    "\n",
    "# Mostrar la gráfica\n",
    "plt.show()"
   ]
  },
  {
   "cell_type": "code",
   "execution_count": 58,
   "id": "1101660c-15eb-48e1-a76e-89ccf81dd868",
   "metadata": {},
   "outputs": [
    {
     "data": {
      "image/png": "[encoded data removed]",
      "text/plain": [
       "<Figure size 800x600 with 1 Axes>"
      ]
     },
     "metadata": {},
     "output_type": "display_data"
    }
   ],
   "source": [
    "# Crear una nube de puntos (scatter plot) entre 'price' y 'carat'\n",
    "plt.figure(figsize=(8,6))\n",
    "plt.scatter(df['From Bank'], df['Amount Received'], color='blue', alpha=0.5)\n",
    "plt.title('Nube de puntos entre el peso del diamante (From Bank) y su Amount Received')\n",
    "plt.xlabel('From Bank')\n",
    "plt.ylabel('Amount Received')\n",
    "\n",
    "# Mostrar la gráfica\n",
    "plt.show()"
   ]
  },
  {
   "cell_type": "code",
   "execution_count": 63,
   "id": "8510a88c-f339-468f-9c33-1ee75ce715b4",
   "metadata": {},
   "outputs": [
    {
     "name": "stdout",
     "output_type": "stream",
     "text": [
      "Correlación entre From Bank y Amount Received: -0.00045963823458977925\n"
     ]
    }
   ],
   "source": [
    "#Analizo correlación\n",
    "correlation = df['From Bank'].corr(df['Amount Received'])\n",
    "print(f\"Correlación entre From Bank y Amount Received: {correlation}\")"
   ]
  },
  {
   "cell_type": "code",
   "execution_count": 64,
   "id": "dffe15a2-7f1c-4c4e-bdda-6d626df4ea1a",
   "metadata": {},
   "outputs": [],
   "source": [
    "#creo el modelo de mis datos a correlacionar\n",
    "model = model.fit( df[ [\"From Bank\"] ], df[\"Amount Received\"] )"
   ]
  },
  {
   "cell_type": "code",
   "execution_count": 65,
   "id": "34713455-cc57-42e6-bef6-43c70707ede1",
   "metadata": {},
   "outputs": [],
   "source": [
    "# creamos variables con los valores reales\n",
    "X = df.drop([\"Amount Received\"], axis = 1)\n",
    "y = df[\"Amount Received\"]"
   ]
  },
  {
   "cell_type": "code",
   "execution_count": 69,
   "id": "56965c00-61d6-40d2-a315-6a9f0a279b66",
   "metadata": {},
   "outputs": [],
   "source": [
    "# variables de entrenamiento y testeo\n",
    "X_train, X_test, y_train, y_test = train_test_split(X, y, test_size=0.25, random_state=150)"
   ]
  },
  {
   "cell_type": "markdown",
   "id": "3f6bfd12-9846-410f-9f25-edd0bdb746cf",
   "metadata": {},
   "source": [
    "Entrenando el modelo"
   ]
  },
  {
   "cell_type": "code",
   "execution_count": 71,
   "id": "b251f9ca-ee6f-4fdf-9934-268353891ecd",
   "metadata": {},
   "outputs": [],
   "source": [
    "# Entrenando el modelo y predicción\n",
    "model.fit(X_train[[\"From Bank\"]], y_train)\n",
    "pred = model.predict(X_test[[\"From Bank\"]])"
   ]
  },
  {
   "cell_type": "code",
   "execution_count": 75,
   "id": "b937443f-8ff6-410a-a983-ddbdeafc319b",
   "metadata": {},
   "outputs": [
    {
     "name": "stdout",
     "output_type": "stream",
     "text": [
      "Root Mean Squared Error (RMSE): 2881071375.5863266\n"
     ]
    },
    {
     "name": "stderr",
     "output_type": "stream",
     "text": [
      "C:\\Users\\gabriel.guzman\\AppData\\Local\\Programs\\Python\\Python312\\Lib\\site-packages\\sklearn\\metrics\\_regression.py:492: FutureWarning: 'squared' is deprecated in version 1.4 and will be removed in 1.6. To calculate the root mean squared error, use the function'root_mean_squared_error'.\n",
      "  warnings.warn(\n"
     ]
    }
   ],
   "source": [
    "RMSE = mean_squared_error(y_test, pred, squared=False)\n",
    "#RMSE = root_mean_squared_error(y_test, pred, squared=False) \n",
    "print(\"Root Mean Squared Error (RMSE):\", RMSE)\n"
   ]
  },
  {
   "cell_type": "code",
   "execution_count": 80,
   "id": "b2090b7a-abb2-4529-a702-d61c2f495937",
   "metadata": {},
   "outputs": [],
   "source": [
    "#Creando nuestro k-fold\n",
    "k_fold_cv = 7\n",
    "score_kfold = cross_val_score(model, X[[\"From Bank\"]], y, cv=k_fold_cv, scoring=\"neg_mean_squared_error\")\n",
    "\n"
   ]
  },
  {
   "cell_type": "code",
   "execution_count": 83,
   "id": "8d47438e-457e-41e0-8274-ff8d527a796b",
   "metadata": {},
   "outputs": [
    {
     "data": {
      "text/plain": [
       "array([8.90014270e+08, 8.39494004e+08, 5.23299707e+09, 9.66621780e+08,\n",
       "       4.78000650e+08, 5.81372997e+08, 8.03863479e+08])"
      ]
     },
     "execution_count": 83,
     "metadata": {},
     "output_type": "execute_result"
    }
   ],
   "source": [
    "#convertimos en positivo\n",
    "np.sqrt(np.abs(score_kfold))"
   ]
  },
  {
   "cell_type": "code",
   "execution_count": 84,
   "id": "29efb0ff-df4b-4d12-b153-18d5a164a49b",
   "metadata": {},
   "outputs": [
    {
     "data": {
      "image/png": "[encoded data removed]",
      "text/plain": [
       "<Figure size 800x600 with 1 Axes>"
      ]
     },
     "metadata": {},
     "output_type": "display_data"
    }
   ],
   "source": [
    "#creamos gráfica\n",
    "rmse_scores = np.sqrt(np.abs(score_kfold))\n",
    "\n",
    "# Crear una gráfica de barras\n",
    "plt.figure(figsize=(8,6))\n",
    "plt.bar(range(1, len(rmse_scores) + 1), rmse_scores, color='blue')\n",
    "plt.xlabel('Fold Number')\n",
    "plt.ylabel('RMSE')\n",
    "plt.title('Root Mean Squared Error (RMSE) por Fold en Validación Cruzada')\n",
    "plt.xticks(range(1, len(rmse_scores) + 1))\n",
    "\n",
    "# Mostrar la gráfica\n",
    "plt.show()"
   ]
  },
  {
   "cell_type": "code",
   "execution_count": 85,
   "id": "73c1e9ef-f82c-476e-a6db-f3efb08de569",
   "metadata": {},
   "outputs": [
    {
     "name": "stdout",
     "output_type": "stream",
     "text": [
      "Root Mean Squared Error (k-fold CV): 2105372963.9275043\n"
     ]
    }
   ],
   "source": [
    "RMSE_kfold = np.sqrt(np.abs(score_kfold).mean())\n",
    "# Print the RMSE for k-fold cross-validation\n",
    "print(\"Root Mean Squared Error (k-fold CV):\", RMSE_kfold)"
   ]
  },
  {
   "cell_type": "markdown",
   "id": "c07e8063-478a-4647-857e-d60b42c82ed0",
   "metadata": {},
   "source": [
    "## Conclusión\n"
   ]
  },
  {
   "cell_type": "markdown",
   "id": "a3fe98af-a392-4371-83f7-e7a1c902043e",
   "metadata": {},
   "source": [
    "En este caso, los valores de RMSE varían bastante, con un mínimo de ~1 y un máximo de ~5. Esta diferencia puede ser un indicativo de que el modelo tiene dificultades para generalizar bien en algunos folds (donde RMSE es alto) mientras que en otros el error es significativamente más bajo.\n",
    "\n",
    "El valor de 2105372963.9275043 es significativamente mayor que el resto, lo que sugiere que en al menos un fold, el modelo está teniendo dificultades para predecir los valores correctamente. Esto podría ser causado por una distribución particular de los datos en ese fold, lo que indica que el modelo no es robusto para generalizar en todos los subconjuntos.\n"
   ]
  }
 ],
 "metadata": {
  "kernelspec": {
   "display_name": "Python 3 (ipykernel)",
   "language": "python",
   "name": "python3"
  },
  "language_info": {
   "codemirror_mode": {
    "name": "ipython",
    "version": 3
   },
   "file_extension": ".py",
   "mimetype": "text/x-python",
   "name": "python",
   "nbconvert_exporter": "python",
   "pygments_lexer": "ipython3",
   "version": "3.12.5"
  }
 },
 "nbformat": 4,
 "nbformat_minor": 5
}
